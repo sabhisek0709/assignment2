{
 "cells": [
  {
   "cell_type": "code",
   "execution_count": 4,
   "id": "2430dc98-9ece-4564-a9ed-a90f583b05f0",
   "metadata": {},
   "outputs": [
    {
     "name": "stdout",
     "output_type": "stream",
     "text": [
      "(5+7j)\n"
     ]
    }
   ],
   "source": [
    "\"\"\"The complex number is in the form of a+ib, where a = real number and ib = imaginary number. \n",
    "Also, a,b belongs to real numbers and i = √-1.\"\"\"\n",
    "x=complex(5, 7)\n",
    "print(x)"
   ]
  },
  {
   "cell_type": "code",
   "execution_count": null,
   "id": "95237855-23a9-49f8-8636-1f0e314f1c6e",
   "metadata": {},
   "outputs": [],
   "source": []
  }
 ],
 "metadata": {
  "kernelspec": {
   "display_name": "Python 3 (ipykernel)",
   "language": "python",
   "name": "python3"
  },
  "language_info": {
   "codemirror_mode": {
    "name": "ipython",
    "version": 3
   },
   "file_extension": ".py",
   "mimetype": "text/x-python",
   "name": "python",
   "nbconvert_exporter": "python",
   "pygments_lexer": "ipython3",
   "version": "3.10.8"
  }
 },
 "nbformat": 4,
 "nbformat_minor": 5
}
