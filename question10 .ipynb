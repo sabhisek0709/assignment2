{
 "cells": [
  {
   "cell_type": "code",
   "execution_count": 4,
   "id": "f45ec076-2966-40b2-aa4e-3544b89adc3d",
   "metadata": {},
   "outputs": [
    {
     "name": "stdout",
     "output_type": "stream",
     "text": [
      "world\n"
     ]
    }
   ],
   "source": [
    "x=\"hello world\"\n",
    "print(x[6:11])"
   ]
  },
  {
   "cell_type": "code",
   "execution_count": null,
   "id": "4ef45743-16b1-4049-a284-88c51d424e41",
   "metadata": {},
   "outputs": [],
   "source": []
  }
 ],
 "metadata": {
  "kernelspec": {
   "display_name": "Python 3 (ipykernel)",
   "language": "python",
   "name": "python3"
  },
  "language_info": {
   "codemirror_mode": {
    "name": "ipython",
    "version": 3
   },
   "file_extension": ".py",
   "mimetype": "text/x-python",
   "name": "python",
   "nbconvert_exporter": "python",
   "pygments_lexer": "ipython3",
   "version": "3.10.8"
  }
 },
 "nbformat": 4,
 "nbformat_minor": 5
}
