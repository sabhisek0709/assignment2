{
 "cells": [
  {
   "cell_type": "code",
   "execution_count": 1,
   "id": "3164e46c-b808-4544-845e-46dcaa16546d",
   "metadata": {},
   "outputs": [
    {
     "ename": "SyntaxError",
     "evalue": "invalid syntax (2298040274.py, line 5)",
     "output_type": "error",
     "traceback": [
      "\u001b[0;36m  Cell \u001b[0;32mIn[1], line 5\u001b[0;36m\u001b[0m\n\u001b[0;31m    $ python3 hello.py\u001b[0m\n\u001b[0m    ^\u001b[0m\n\u001b[0;31mSyntaxError\u001b[0m\u001b[0;31m:\u001b[0m invalid syntax\n"
     ]
    }
   ],
   "source": [
    "\"\"\"To run Python scripts with the python command, \n",
    "we need to open a command-line and type in the word python or python3 if you have both versions, \n",
    "followed by the path to your script, just like this:\"\"\"\n",
    "\n",
    "$ python3 hello.py\n",
    "Hello World!\n",
    "#If everything works okay, after you press Enter, you’ll see the phrase Hello World! "
   ]
  },
  {
   "cell_type": "code",
   "execution_count": null,
   "id": "af9467ee-33d8-4839-bbe3-0983ce1fce38",
   "metadata": {},
   "outputs": [],
   "source": []
  }
 ],
 "metadata": {
  "kernelspec": {
   "display_name": "Python 3 (ipykernel)",
   "language": "python",
   "name": "python3"
  },
  "language_info": {
   "codemirror_mode": {
    "name": "ipython",
    "version": 3
   },
   "file_extension": ".py",
   "mimetype": "text/x-python",
   "name": "python",
   "nbconvert_exporter": "python",
   "pygments_lexer": "ipython3",
   "version": "3.10.8"
  }
 },
 "nbformat": 4,
 "nbformat_minor": 5
}
