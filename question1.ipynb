{
 "cells": [
  {
   "cell_type": "code",
   "execution_count": 2,
   "id": "5a6df67c-ce8e-4a9d-b4d9-3a6502ea445b",
   "metadata": {},
   "outputs": [
    {
     "name": "stdout",
     "output_type": "stream",
     "text": [
      "abhisek\n"
     ]
    }
   ],
   "source": [
    "#comment will be ignored\n",
    "#single line comment\n",
    "print(\"abhisek\")"
   ]
  },
  {
   "cell_type": "code",
   "execution_count": 1,
   "id": "c41f1f5a-6059-48a9-9c3f-87cd093c2d90",
   "metadata": {},
   "outputs": [
    {
     "name": "stdout",
     "output_type": "stream",
     "text": [
      "abhisek\n"
     ]
    }
   ],
   "source": [
    "\"\"\" multiline comments can bed represented as this\"\"\"\n",
    "print (\"abhisek\")"
   ]
  },
  {
   "cell_type": "code",
   "execution_count": 3,
   "id": "dfb5a76b-d632-413c-b177-7dc9a049beab",
   "metadata": {},
   "outputs": [
    {
     "name": "stdout",
     "output_type": "stream",
     "text": [
      "abhisek\n"
     ]
    }
   ],
   "source": [
    "' kind of comment'\n",
    "print(\"abhisek\")"
   ]
  },
  {
   "cell_type": "code",
   "execution_count": null,
   "id": "778ececa-ddd9-4274-b79e-0e743ec2507e",
   "metadata": {},
   "outputs": [],
   "source": []
  }
 ],
 "metadata": {
  "kernelspec": {
   "display_name": "Python 3 (ipykernel)",
   "language": "python",
   "name": "python3"
  },
  "language_info": {
   "codemirror_mode": {
    "name": "ipython",
    "version": 3
   },
   "file_extension": ".py",
   "mimetype": "text/x-python",
   "name": "python",
   "nbconvert_exporter": "python",
   "pygments_lexer": "ipython3",
   "version": "3.10.8"
  }
 },
 "nbformat": 4,
 "nbformat_minor": 5
}
